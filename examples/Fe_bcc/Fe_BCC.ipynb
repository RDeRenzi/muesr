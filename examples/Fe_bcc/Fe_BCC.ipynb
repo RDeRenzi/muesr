{
 "cells": [
  {
   "cell_type": "markdown",
   "metadata": {},
   "source": [
    "# Fe BCC\n",
    "\n",
    "In this example the local field at the tetrahedral site(s) in bcc-Fe is calculated."
   ]
  },
  {
   "cell_type": "code",
   "execution_count": 1,
   "metadata": {},
   "outputs": [],
   "source": [
    "import numpy as np\n",
    "from muesr.core.sample import Sample                   # Retains all the sample info.\n",
    "from muesr.i_o.cif.cif import load_cif                 # For loading the structure from cif files\n",
    "from muesr.utilities import mago_add, show_structure   # For magnetic structure description and visualization\n",
    "from muesr.utilities import muon_find_equiv            # For finding and including the symmetry equivalent muon positions in the calculation \n",
    "\n",
    "from muesr.engines.clfc import locfield, find_largest_sphere # Does the sum and returns the local field in its various contributions\n",
    "\n",
    "np.set_printoptions(suppress=True,precision=5)\n"
   ]
  },
  {
   "cell_type": "markdown",
   "metadata": {},
   "source": [
    "Create a `Sample` instance and load lattice structure from a CIF file."
   ]
  },
  {
   "cell_type": "code",
   "execution_count": 2,
   "metadata": {},
   "outputs": [],
   "source": [
    "fe=Sample()                          \n",
    "load_cif(fe,\"./Fe.cif\");"
   ]
  },
  {
   "cell_type": "markdown",
   "metadata": {},
   "source": [
    "Add the muon position"
   ]
  },
  {
   "cell_type": "code",
   "execution_count": 3,
   "metadata": {
    "collapsed": true
   },
   "outputs": [],
   "source": [
    "fe.add_muon([0.50,0.25,0.0]);"
   ]
  },
  {
   "cell_type": "markdown",
   "metadata": {},
   "source": [
    "and find the symmetry equivalent positions. In BCC Fe there are 12 symmetry equivalent sites for the position provided above. These are automatically added with the following command."
   ]
  },
  {
   "cell_type": "code",
   "execution_count": 4,
   "metadata": {},
   "outputs": [
    {
     "data": {
      "text/plain": [
       "Sample status: \n",
       "\n",
       " Crystal structure:           \u001b[92mYes\u001b[0m\n",
       " Magnetic structure:          \u001b[93mNo\u001b[0m\n",
       " Muon position(s):            \u001b[92m12 site(s)\u001b[0m\n",
       " Symmetry data:               \u001b[92mYes\u001b[0m"
      ]
     },
     "execution_count": 4,
     "metadata": {},
     "output_type": "execute_result"
    }
   ],
   "source": [
    "muon_find_equiv(fe);\n",
    "fe"
   ]
  },
  {
   "cell_type": "markdown",
   "metadata": {},
   "source": [
    "The definition of the magnetic structure of Fe is created with `fe.new_mm()` (new magnetic model).\n",
    "The experimental magnetic moment at the Fe atoms is 2.22 Bohr magneton and the propagation vector is **0** (ferromagnetic order)."
   ]
  },
  {
   "cell_type": "code",
   "execution_count": 5,
   "metadata": {
    "collapsed": true
   },
   "outputs": [],
   "source": [
    "fe.new_mm()     \n",
    "fe.mm.k=np.array([0.0,0.0,0.0])\n",
    "fe.mm.fc= np.array([[0.0+0.j, 0.0+0.j, 2.22+0.j],\n",
    "                     [0.0+0.j, 0.0+0.j, 2.22+0.j]])"
   ]
  },
  {
   "cell_type": "markdown",
   "metadata": {},
   "source": [
    "There is another way to define the magnetic structure especially useful when using the interactive session:\n",
    "\n",
    "    mago_add(fe)\n",
    "\n",
    "\n",
    "It should appear like this on the interactive screen \n",
    "\n",
    "    >>> mago_add(fe)\n",
    "\t... Propagation vector (w.r.t. conv. rec. cell): 0.0 0.0 0.0\n",
    "\t... Magnetic moments in bohr magnetons and cartesian coordinates.\n",
    "\t... Which atom? (enter for all)Fe\n",
    "\t... Lattice vectors:\n",
    "\t...   a    2.868018200000000    0.000000000000000    0.000000000000000\n",
    "\t...   b    0.000000000000000    2.868018200000000    0.000000000000000\n",
    "\t...   c    0.000000000000000    0.000000000000000    2.868018200000000\n",
    "\t... Atomic positions (fractional):\n",
    "\t...     1 Fe  0.00000000000000  0.00000000000000  0.00000000000000  55.845\n",
    "\t...     2 Fe  0.50000000000000  0.50000000000000  0.50000000000000  55.845\n",
    "\t... FC for atom 1 Fe (3 real, [3 imag]): 0.00 0.00 2.22 \n",
    "\t... FC for atom 2 Fe (3 real, [3 imag]): 0.00 0.00 2.22 \n"
   ]
  },
  {
   "cell_type": "markdown",
   "metadata": {},
   "source": [
    "The following commands may be used to visualize the lattice structure, the muon position and the magnetic order with XCrysDen."
   ]
  },
  {
   "cell_type": "code",
   "execution_count": 6,
   "metadata": {},
   "outputs": [],
   "source": [
    "#show_structure(fe, [2,2,2]);"
   ]
  },
  {
   "cell_type": "markdown",
   "metadata": {},
   "source": [
    "The function `find_largest_sphere` can be used to find the largest sphere with center at the muon site(s) that can be inscribed in a 100x100x100 supercell."
   ]
  },
  {
   "cell_type": "code",
   "execution_count": 7,
   "metadata": {
    "collapsed": true
   },
   "outputs": [],
   "source": [
    "radius=find_largest_sphere(fe,[100, 100, 100])"
   ]
  },
  {
   "cell_type": "markdown",
   "metadata": {},
   "source": [
    "With the following call, the local field at the muon sites is finally evaluated.\n",
    "The first argument is the sample object, the second argument spcifies that a simple sum should be performed, the third argument is the supercell dimension along the three lattice vectors and the last argument is the radius of the Lorentz sphere."
   ]
  },
  {
   "cell_type": "code",
   "execution_count": 8,
   "metadata": {
    "collapsed": true
   },
   "outputs": [],
   "source": [
    "r=locfield(fe, 's', [100, 100, 100] ,radius) "
   ]
  },
  {
   "cell_type": "markdown",
   "metadata": {},
   "source": [
    "All the local fied contributions are contained in r, the dipolar contribution in `r[i].D`, the Lorentz contribution in `r[i]`.L, the Fermi contact contribution in `r[i].C`, and the sum of all contributions in `r[i].T` where `i` runs on the muon sites.\n",
    "\n",
    "If `r[i].ACont` (isotropic contact coupling term) is not defined `r[i].C` is zero.\n",
    "For the details on the contact coupling term see the documentation (http://muesr.readthedocs.io/en/latest/ContactTerm.html)\n"
   ]
  },
  {
   "cell_type": "code",
   "execution_count": 9,
   "metadata": {
    "collapsed": true
   },
   "outputs": [],
   "source": [
    "B_dip=np.zeros([len(fe.muons),3])\n",
    "B_Lor=np.zeros([len(fe.muons),3])\n",
    "B_Cont=np.zeros([len(fe.muons),3])\n",
    "B_Tot=np.zeros([len(fe.muons),3])\n",
    "\n",
    "for i in range(len(fe.muons)):\n",
    "    B_dip[i]=r[i].D\n",
    "    B_Lor[i]=r[i].L\n",
    "    r[i].ACont = 0.0644\n",
    "    B_Cont[i]=r[i].C\n",
    "    B_Tot[i]=r[i].T"
   ]
  },
  {
   "cell_type": "markdown",
   "metadata": {},
   "source": [
    "As discussed in M. Schmolz et.al (Hyperfine Interactions 31 (1986) 199-204), in BCC Fe the muon jumps between the tetrahedral sites and \"the field contribution at each equivalent site is either parallel or antiparallel to the magnetization of the domains\" such that  B_dip(parallel)=-2B_dip(antiparallel) [...] the average of the dipolar field at these three sites vanishes\""
   ]
  },
  {
   "cell_type": "code",
   "execution_count": 10,
   "metadata": {},
   "outputs": [
    {
     "name": "stdout",
     "output_type": "stream",
     "text": [
      "Dipolar Field for all the 12 tetrahedral equivalent sites\n",
      "[[ 0.       0.       0.26498]\n",
      " [-0.      -0.       0.26498]\n",
      " [-0.       0.      -0.52995]\n",
      " [ 0.       0.      -0.52995]\n",
      " [ 0.       0.       0.26498]\n",
      " [-0.      -0.       0.26498]\n",
      " [ 0.      -0.       0.26498]\n",
      " [-0.      -0.       0.26498]\n",
      " [ 0.       0.      -0.52995]\n",
      " [ 0.       0.      -0.52995]\n",
      " [-0.      -0.       0.26498]\n",
      " [-0.      -0.       0.26498]]\n",
      "The Lorentz field is 0.000 0.000 0.731\n",
      "The contact field is 1.111 T\n",
      "Dipolar average of 1 parallel site and 2 antiparallel sites is 0.00000 T\n"
     ]
    }
   ],
   "source": [
    "print(\"Dipolar Field for all the 12 tetrahedral equivalent sites\")\n",
    "print(B_dip) \n",
    "\n",
    "# This is and should be same for all the equivalent sites\n",
    "print(\"The Lorentz field is {:4.3f} {:4.3f} {:4.3f}\".format(*tuple(B_Lor[0])))\n",
    "\n",
    "print(\"The contact field is {:4.3f} T\".format(np.linalg.norm(B_Cont[0])))\n",
    "\n",
    "print(\"Dipolar average of 1 parallel site and 2 antiparallel sites is {:4.5f} T\".format(np.linalg.norm(B_dip[3]+B_dip[10]+B_dip[11])))"
   ]
  }
 ],
 "metadata": {
  "kernelspec": {
   "display_name": "Python 3",
   "language": "python",
   "name": "python3"
  },
  "language_info": {
   "codemirror_mode": {
    "name": "ipython",
    "version": 3
   },
   "file_extension": ".py",
   "mimetype": "text/x-python",
   "name": "python",
   "nbconvert_exporter": "python",
   "pygments_lexer": "ipython3",
   "version": "3.6.3"
  }
 },
 "nbformat": 4,
 "nbformat_minor": 2
}
